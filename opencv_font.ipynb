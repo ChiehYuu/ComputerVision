{
 "cells": [
  {
   "attachments": {},
   "cell_type": "markdown",
   "metadata": {},
   "source": [
    "# opencv 寫字 / 中文解決辦法"
   ]
  },
  {
   "cell_type": "code",
   "execution_count": 3,
   "metadata": {},
   "outputs": [],
   "source": [
    "from PIL import ImageFont, ImageDraw, Image\n",
    "import numpy as np\n",
    "import cv2"
   ]
  },
  {
   "cell_type": "code",
   "execution_count": 5,
   "metadata": {},
   "outputs": [
    {
     "data": {
      "text/plain": [
       "-1"
      ]
     },
     "execution_count": 5,
     "metadata": {},
     "output_type": "execute_result"
    }
   ],
   "source": [
    "img = np.zeros((800,600,3), dtype='uint8')   # 繪製黑色畫布\n",
    "fontpath = './font/Noto_Sans_TC/NotoSansTC-Regular.otf'          # 設定字型路徑\n",
    "font = ImageFont.truetype(fontpath, 50)      # 設定字型與文字大小\n",
    "imgPil = Image.fromarray(img)                # 將 img 轉換成 PIL 影像\n",
    "draw = ImageDraw.Draw(imgPil)                # 準備開始畫畫\n",
    "draw.text((0, 0), '你好\\n世界', fill=(255, 255, 255), font=font)  # 畫入文字，\\n 表示換行\n",
    "img = np.array(imgPil)                       # 將 PIL 影像轉換成 numpy 陣列\n",
    "cv2.imshow('chinesefont', img)\n",
    "while True:\n",
    "    key = cv2.waitKey(1)                            # 按q停止\n",
    "    if key & 0xFF == ord('q'):\n",
    "        break\n",
    "cv2.destroyAllWindows()\n",
    "cv2.waitKey(1)      # 釋放視窗資源"
   ]
  },
  {
   "cell_type": "code",
   "execution_count": 1,
   "metadata": {},
   "outputs": [],
   "source": [
    "# cv2.putText(img, text, org, fontFace, fontScale, color, thickness, lineType)\n",
    "# img 來源影像\n",
    "# text 文字內容\n",
    "# org 文字座標 ( 垂直方向是文字底部到影像頂端的距離 )\n",
    "# fontFace 文字字型\n",
    "# fontScale 文字尺寸\n",
    "# color 線條顏色，使用 BGR\n",
    "# thickness 文字外框線條粗細，預設 1\n",
    "# lineType 外框線條樣式，預設 cv2.LINE_8，設定 cv2.LINE_AA 可以反鋸齒"
   ]
  },
  {
   "cell_type": "code",
   "execution_count": 4,
   "metadata": {},
   "outputs": [
    {
     "data": {
      "text/plain": [
       "-1"
      ]
     },
     "execution_count": 4,
     "metadata": {},
     "output_type": "execute_result"
    }
   ],
   "source": [
    "img = np.zeros((800,600,3), dtype='uint8')   # 建立 300x150 的黑色畫布\n",
    "text = 'Hello World'\n",
    "org = (20,90)\n",
    "fontFace = cv2.FONT_HERSHEY_SIMPLEX\n",
    "fontScale = 2.5\n",
    "color = (0,0,255)\n",
    "thickness = 5\n",
    "lineType = cv2.LINE_AA\n",
    "cv2.putText(img, text, org, fontFace, fontScale, color, thickness, lineType)\n",
    "cv2.imshow('text', img)\n",
    "while True:\n",
    "    key = cv2.waitKey(1)                            # 按q停止\n",
    "    if key & 0xFF == ord('q'):\n",
    "        break\n",
    "cv2.destroyAllWindows()\n",
    "cv2.waitKey(1)      # 釋放視窗資源"
   ]
  },
  {
   "cell_type": "code",
   "execution_count": null,
   "metadata": {},
   "outputs": [],
   "source": []
  }
 ],
 "metadata": {
  "kernelspec": {
   "display_name": "Python 3",
   "language": "python",
   "name": "python3"
  },
  "language_info": {
   "codemirror_mode": {
    "name": "ipython",
    "version": 3
   },
   "file_extension": ".py",
   "mimetype": "text/x-python",
   "name": "python",
   "nbconvert_exporter": "python",
   "pygments_lexer": "ipython3",
   "version": "3.11.0"
  },
  "orig_nbformat": 4
 },
 "nbformat": 4,
 "nbformat_minor": 2
}
