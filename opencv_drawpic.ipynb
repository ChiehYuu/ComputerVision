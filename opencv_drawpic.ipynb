{
 "cells": [
  {
   "attachments": {},
   "cell_type": "markdown",
   "metadata": {},
   "source": [
    "# 繪圖練習 opencv + numpy"
   ]
  },
  {
   "cell_type": "code",
   "execution_count": 1,
   "metadata": {},
   "outputs": [],
   "source": [
    "import cv2\n",
    "import numpy as np"
   ]
  },
  {
   "attachments": {},
   "cell_type": "markdown",
   "metadata": {},
   "source": [
    "## 畫線"
   ]
  },
  {
   "cell_type": "code",
   "execution_count": 5,
   "metadata": {},
   "outputs": [],
   "source": [
    "# cv2.line(img, pt1, pt2, color, thickness)\n",
    "# img 來源影像\n",
    "# pt1 起始點座標 pt2 結束點座標\n",
    "# color 線條顏色，使用 BGR\n",
    "# thickness 線條粗細，預設 1"
   ]
  },
  {
   "cell_type": "code",
   "execution_count": 6,
   "metadata": {},
   "outputs": [
    {
     "data": {
      "text/plain": [
       "-1"
      ]
     },
     "execution_count": 6,
     "metadata": {},
     "output_type": "execute_result"
    }
   ],
   "source": [
    "img = np.zeros((300,300,3), dtype='uint8')   # 繪製 300x300 的黑色畫布\n",
    "cv2.line(img,(50,50),(250,250),(0,0,255),5)  # 繪製線條\n",
    "cv2.imshow('line', img)\n",
    "while True:\n",
    "    key = cv2.waitKey(1)                     # 按q停止\n",
    "    if key & 0xFF == ord('q'):\n",
    "        break\n",
    "cv2.destroyAllWindows()                      # 關閉視窗\n",
    "cv2.waitKey(1) #this is necessary to close window ************"
   ]
  },
  {
   "attachments": {},
   "cell_type": "markdown",
   "metadata": {},
   "source": [
    "## 畫箭頭線條"
   ]
  },
  {
   "cell_type": "code",
   "execution_count": 4,
   "metadata": {},
   "outputs": [],
   "source": [
    "# cv2.arrowedLine(img, pt1, pt2, color, thickness, tipLength)\n",
    "# img 來源影像\n",
    "# pt1 起始點座標 pt2 結束點座標\n",
    "# color 線條顏色，使用 BGR\n",
    "# thickness 線條粗細，預設 1\n",
    "# tipLength 箭頭長度，預設 0.1 ( 箭頭線條長度 x 0.1 )"
   ]
  },
  {
   "cell_type": "code",
   "execution_count": 2,
   "metadata": {},
   "outputs": [
    {
     "data": {
      "text/plain": [
       "-1"
      ]
     },
     "execution_count": 2,
     "metadata": {},
     "output_type": "execute_result"
    }
   ],
   "source": [
    "img = np.zeros((300,300,3), dtype='uint8')\n",
    "cv2.arrowedLine(img,(50,50),(250,250),(0,0,255),5)  # 繪製箭頭線條\n",
    "cv2.imshow('arrow', img)\n",
    "while True: \n",
    "    key = cv2.waitKey(1)                            # 按q停止\n",
    "    if key & 0xFF == ord('q'):\n",
    "        break\n",
    "cv2.destroyAllWindows()                             # 關閉視窗\n",
    "cv2.waitKey(1) #this is necessary to close window ************"
   ]
  },
  {
   "attachments": {},
   "cell_type": "markdown",
   "metadata": {},
   "source": [
    "# Polygon"
   ]
  },
  {
   "cell_type": "code",
   "execution_count": 9,
   "metadata": {},
   "outputs": [],
   "source": [
    "# cv2.rectangle(img, pt1, pt2, color, thickness)\n",
    "# img 來源影像\n",
    "# pt1 左上座標 pt2 右下座標\n",
    "# color 線條顏色，使用 BGR\n",
    "# thickness 線條粗細，預設 1，設定 -1 表示填滿"
   ]
  },
  {
   "cell_type": "code",
   "execution_count": 3,
   "metadata": {},
   "outputs": [
    {
     "data": {
      "text/plain": [
       "-1"
      ]
     },
     "execution_count": 3,
     "metadata": {},
     "output_type": "execute_result"
    }
   ],
   "source": [
    "img = np.zeros((300,300,3), dtype='uint8')\n",
    "cv2.rectangle(img,(50,50),(250,250),(0,0,255),5)  # 繪製正方形\n",
    "cv2.imshow('rectangle', img)\n",
    "while True:\n",
    "    key = cv2.waitKey(1)                            # 按q停止\n",
    "    if key & 0xFF == ord('q'):\n",
    "        break\n",
    "cv2.destroyAllWindows()                             # 關閉視窗\n",
    "cv2.waitKey(1) #this is necessary to close window ************"
   ]
  },
  {
   "attachments": {},
   "cell_type": "markdown",
   "metadata": {},
   "source": [
    "# cv2.polylines(img, pts, isClosed, color, thickness)\n",
    "# img 來源影像\n",
    "# pts 座標陣列 ( 使用 numpy 陣列 )\n",
    "# isClosed 多邊形是否閉合，True 閉合，False 不閉合\n",
    "# color 線條顏色，使用 BGR\n",
    "# thickness 線條粗細，預設 1"
   ]
  },
  {
   "cell_type": "code",
   "execution_count": 5,
   "metadata": {},
   "outputs": [
    {
     "data": {
      "text/plain": [
       "-1"
      ]
     },
     "execution_count": 5,
     "metadata": {},
     "output_type": "execute_result"
    }
   ],
   "source": [
    "img = np.zeros((300,300,3), dtype='uint8')\n",
    "pts = np.array([[150,50],[250,100],[150,250],[50,100], [110,22] , [56, 78]])   # 產生座標陣列\n",
    "cv2.polylines(img,[pts],True,(0,0,255),5)   # 繪製多邊形\n",
    "cv2.imshow('polygon', img)\n",
    "while True:\n",
    "    key = cv2.waitKey(1)                            # 按q停止\n",
    "    if key & 0xFF == ord('q'):\n",
    "        break\n",
    "cv2.destroyAllWindows()                             # 關閉視窗\n",
    "cv2.waitKey(1) #this is necessary to close window ************"
   ]
  },
  {
   "attachments": {},
   "cell_type": "markdown",
   "metadata": {},
   "source": [
    "# Draw all in one"
   ]
  },
  {
   "cell_type": "code",
   "execution_count": 6,
   "metadata": {},
   "outputs": [],
   "source": [
    "import cv2\n",
    "import numpy as np"
   ]
  },
  {
   "cell_type": "code",
   "execution_count": 10,
   "metadata": {},
   "outputs": [
    {
     "name": "stdout",
     "output_type": "stream",
     "text": [
      "startpos: (130, 132)\n",
      "startpos: (262, 55)\n",
      "startpos: (149, 221)\n",
      "startpos: (283, 383)\n",
      "startpos: (332, 209)\n",
      "startpos: (131, 209)\n",
      "startpos: (316, 377)\n",
      "startpos: (67, 108)\n"
     ]
    },
    {
     "data": {
      "text/plain": [
       "-1"
      ]
     },
     "execution_count": 10,
     "metadata": {},
     "output_type": "execute_result"
    }
   ],
   "source": [
    "# array init\n",
    "curshape = 0\n",
    "startpos = (0,0)\n",
    "img = np.zeros((500,500,3), dtype='uint8')\n",
    "\n",
    "# mouse callback function\n",
    "def draw_shape(event,x,y,flags,param):\n",
    "\n",
    "    global curshape,startpos\n",
    "\n",
    "    if event == cv2.EVENT_LBUTTONDOWN:\n",
    "        startpos = (x,y)\n",
    "        print('startpos:',startpos)\n",
    "    elif event == cv2.EVENT_LBUTTONUP:\n",
    "        match curshape:\n",
    "\n",
    "            case 0:\n",
    "                cv2.line(img,startpos,(x,y),(0,0,255),5)\n",
    "\n",
    "            case 1:\n",
    "                cv2.rectangle(img,startpos,(x,y),(0,0,255),5)\n",
    "\n",
    "            case 2:\n",
    "                cv2.circle(img,startpos,abs(x-startpos[0]),(0,0,255),5)\n",
    "\n",
    "            case _:\n",
    "                print('error')\n",
    "\n",
    "cv2.namedWindow('draw')\n",
    "cv2.setMouseCallback('draw',draw_shape)\n",
    "\n",
    "while True:\n",
    "    cv2.imshow('draw', img)\n",
    "    key = cv2.waitKey(1)     \n",
    "    if key & 0xFF == ord('q'):\n",
    "        break\n",
    "    elif key & 0xFF == ord('l'):\n",
    "        curshape = 0\n",
    "    elif key & 0xFF == ord('r'):\n",
    "        curshape = 1\n",
    "    elif key & 0xFF == ord('c'):\n",
    "        curshape = 2\n",
    "\n",
    "    # match key:\n",
    "    #     case ord('q'):\n",
    "    #         break   # 按q停止\n",
    "    #     case ord('l'):\n",
    "    #         curshape = 0\n",
    "    #     case ord('r'):\n",
    "    #         curshape = 1\n",
    "    #     case ord('c'):\n",
    "    #         curshape = 2\n",
    "\n",
    "cv2.destroyAllWindows()                             # 關閉視窗\n",
    "cv2.waitKey(1) #this is necessary to close window ************\n",
    "\n",
    "\n",
    "\n",
    "                "
   ]
  },
  {
   "cell_type": "code",
   "execution_count": 11,
   "metadata": {},
   "outputs": [
    {
     "data": {
      "text/plain": [
       "192"
      ]
     },
     "execution_count": 11,
     "metadata": {},
     "output_type": "execute_result"
    }
   ],
   "source": [
    "200 & 198"
   ]
  },
  {
   "cell_type": "code",
   "execution_count": 12,
   "metadata": {},
   "outputs": [
    {
     "data": {
      "text/plain": [
       "195"
      ]
     },
     "execution_count": 12,
     "metadata": {},
     "output_type": "execute_result"
    }
   ],
   "source": [
    "195 & 231"
   ]
  },
  {
   "cell_type": "code",
   "execution_count": null,
   "metadata": {},
   "outputs": [],
   "source": []
  }
 ],
 "metadata": {
  "kernelspec": {
   "display_name": "Python 3",
   "language": "python",
   "name": "python3"
  },
  "language_info": {
   "codemirror_mode": {
    "name": "ipython",
    "version": 3
   },
   "file_extension": ".py",
   "mimetype": "text/x-python",
   "name": "python",
   "nbconvert_exporter": "python",
   "pygments_lexer": "ipython3",
   "version": "3.11.0"
  },
  "orig_nbformat": 4
 },
 "nbformat": 4,
 "nbformat_minor": 2
}
