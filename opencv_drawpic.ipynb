{
 "cells": [
  {
   "attachments": {},
   "cell_type": "markdown",
   "metadata": {},
   "source": [
    "# 繪圖練習 opencv + numpy"
   ]
  },
  {
   "cell_type": "code",
   "execution_count": 2,
   "metadata": {},
   "outputs": [],
   "source": [
    "import cv2\n",
    "import numpy as np"
   ]
  },
  {
   "attachments": {},
   "cell_type": "markdown",
   "metadata": {},
   "source": [
    "## 畫線"
   ]
  },
  {
   "cell_type": "code",
   "execution_count": 5,
   "metadata": {},
   "outputs": [],
   "source": [
    "# cv2.line(img, pt1, pt2, color, thickness)\n",
    "# img 來源影像\n",
    "# pt1 起始點座標 pt2 結束點座標\n",
    "# color 線條顏色，使用 BGR\n",
    "# thickness 線條粗細，預設 1"
   ]
  },
  {
   "cell_type": "code",
   "execution_count": 6,
   "metadata": {},
   "outputs": [
    {
     "data": {
      "text/plain": [
       "-1"
      ]
     },
     "execution_count": 6,
     "metadata": {},
     "output_type": "execute_result"
    }
   ],
   "source": [
    "img = np.zeros((300,300,3), dtype='uint8')   # 繪製 300x300 的黑色畫布\n",
    "cv2.line(img,(50,50),(250,250),(0,0,255),5)  # 繪製線條\n",
    "cv2.imshow('line', img)\n",
    "while True:\n",
    "    key = cv2.waitKey(1)                     # 按q停止\n",
    "    if key & 0xFF == ord('q'):\n",
    "        break\n",
    "cv2.destroyAllWindows()                      # 關閉視窗\n",
    "cv2.waitKey(1) #this is necessary to close window ************"
   ]
  },
  {
   "attachments": {},
   "cell_type": "markdown",
   "metadata": {},
   "source": [
    "## 畫箭頭線條"
   ]
  },
  {
   "cell_type": "code",
   "execution_count": 4,
   "metadata": {},
   "outputs": [],
   "source": [
    "# cv2.arrowedLine(img, pt1, pt2, color, thickness, tipLength)\n",
    "# img 來源影像\n",
    "# pt1 起始點座標 pt2 結束點座標\n",
    "# color 線條顏色，使用 BGR\n",
    "# thickness 線條粗細，預設 1\n",
    "# tipLength 箭頭長度，預設 0.1 ( 箭頭線條長度 x 0.1 )"
   ]
  },
  {
   "cell_type": "code",
   "execution_count": 7,
   "metadata": {},
   "outputs": [
    {
     "data": {
      "text/plain": [
       "-1"
      ]
     },
     "execution_count": 7,
     "metadata": {},
     "output_type": "execute_result"
    }
   ],
   "source": [
    "img = np.zeros((300,300,3), dtype='uint8')\n",
    "cv2.arrowedLine(img,(50,50),(250,250),(0,0,255),5)  # 繪製箭頭線條\n",
    "cv2.imshow('arrow', img)\n",
    "while True:\n",
    "    key = cv2.waitKey(1)                            # 按q停止\n",
    "    if key & 0xFF == ord('q'):\n",
    "        break\n",
    "cv2.destroyAllWindows()                             # 關閉視窗\n",
    "cv2.waitKey(1) #this is necessary to close window ************"
   ]
  },
  {
   "cell_type": "code",
   "execution_count": null,
   "metadata": {},
   "outputs": [],
   "source": []
  }
 ],
 "metadata": {
  "kernelspec": {
   "display_name": "Python 3",
   "language": "python",
   "name": "python3"
  },
  "language_info": {
   "codemirror_mode": {
    "name": "ipython",
    "version": 3
   },
   "file_extension": ".py",
   "mimetype": "text/x-python",
   "name": "python",
   "nbconvert_exporter": "python",
   "pygments_lexer": "ipython3",
   "version": "3.11.0"
  },
  "orig_nbformat": 4
 },
 "nbformat": 4,
 "nbformat_minor": 2
}
