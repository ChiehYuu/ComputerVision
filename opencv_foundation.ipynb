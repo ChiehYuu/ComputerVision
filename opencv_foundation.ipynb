{
 "cells": [
  {
   "attachments": {},
   "cell_type": "markdown",
   "metadata": {},
   "source": [
    "# Warm up"
   ]
  },
  {
   "cell_type": "code",
   "execution_count": null,
   "metadata": {},
   "outputs": [],
   "source": [
    "import cv2"
   ]
  },
  {
   "cell_type": "code",
   "execution_count": null,
   "metadata": {},
   "outputs": [],
   "source": [
    "# Create window\n",
    "# cv2.WINDOW_AUTOSIZE do not allow resizing\n",
    "# cv2.WINDOW_NORMAL allows resizing\n",
    "cv2.namedWindow(\"new\", cv2.WINDOW_NORMAL) #WINDOW_NORMAL allows resizing\n",
    "cv2.resizeWindow(\"new\", 600, 600) #resize window\n",
    "cv2.imshow(\"new\", 0) #show image\n",
    "\n",
    "key = cv2.waitKey(0) #wait for key press\n",
    "# close window if q is pressed\n",
    "if key & 0xFF == ord(\"q\"):\n",
    "    cv2.destroyAllWindows()"
   ]
  },
  {
   "attachments": {},
   "cell_type": "markdown",
   "metadata": {},
   "source": [
    "# Read Image"
   ]
  },
  {
   "attachments": {},
   "cell_type": "markdown",
   "metadata": {},
   "source": [
    "1. Read image to form a array type \n",
    "2. Import into cv2 as a picture\n",
    "3. Open a window to show picture\n",
    "4. Close the window with key input"
   ]
  },
  {
   "cell_type": "code",
   "execution_count": null,
   "metadata": {},
   "outputs": [],
   "source": [
    "import cv2\n",
    "import matplotlib.pyplot as plt\n",
    "import time\n",
    "import numpy as np"
   ]
  },
  {
   "cell_type": "code",
   "execution_count": null,
   "metadata": {},
   "outputs": [],
   "source": [
    "img = cv2.imread(\"photo/img.jpg\") #read image in grayscale"
   ]
  },
  {
   "attachments": {},
   "cell_type": "markdown",
   "metadata": {},
   "source": [
    "##### img filp"
   ]
  },
  {
   "cell_type": "code",
   "execution_count": null,
   "metadata": {},
   "outputs": [],
   "source": [
    "img_filp_0 = cv2.flip(img, 0) #flip image vertically\n",
    "img_filp_1 = cv2.flip(img, 1) #flip image horizontally\n",
    "img_filp_2 = cv2.flip(img, -1) #flip image vertically and horizontally"
   ]
  },
  {
   "cell_type": "code",
   "execution_count": null,
   "metadata": {},
   "outputs": [],
   "source": [
    "cv2.imwrite(\"photo/create/img_filp_0.jpg\", img_filp_0) #save image\n",
    "cv2.imwrite(\"photo/create/img_filp_1.jpg\", img_filp_1) #save image\n",
    "cv2.imwrite(\"photo/create/img_filp_2.jpg\", img_filp_2) #save image"
   ]
  },
  {
   "attachments": {},
   "cell_type": "markdown",
   "metadata": {},
   "source": [
    "##### img transpose"
   ]
  },
  {
   "cell_type": "code",
   "execution_count": null,
   "metadata": {},
   "outputs": [],
   "source": [
    "cv2.transpose() #transpose image"
   ]
  },
  {
   "cell_type": "code",
   "execution_count": null,
   "metadata": {},
   "outputs": [],
   "source": [
    "img.shape #get image shape"
   ]
  },
  {
   "cell_type": "code",
   "execution_count": null,
   "metadata": {},
   "outputs": [],
   "source": [
    "plt.imshow(img) #show image"
   ]
  },
  {
   "cell_type": "code",
   "execution_count": null,
   "metadata": {},
   "outputs": [],
   "source": [
    "cv2.imwrite(\"photo/create/img_gray.jpg\", img) #save image"
   ]
  },
  {
   "cell_type": "code",
   "execution_count": null,
   "metadata": {},
   "outputs": [],
   "source": [
    "cv2.namedWindow('kasu', cv2.WINDOW_AUTOSIZE)\n",
    "cv2.startWindowThread()\n",
    "cv2.imshow('kasu', img) #show image\n",
    "\n",
    "# close window if q is pressed\n",
    "key = cv2.waitKey(0)\n",
    "if key in [27, ord('q'), ord('Q')]:\n",
    "    cv2.destroyAllWindows()\n",
    "cv2.waitKey(1) #this is necessary to close window ************"
   ]
  },
  {
   "attachments": {},
   "cell_type": "markdown",
   "metadata": {},
   "source": [
    "## pack the function"
   ]
  },
  {
   "cell_type": "code",
   "execution_count": null,
   "metadata": {},
   "outputs": [],
   "source": [
    "def cv_show(name: str, img: np.ndarray) -> None:\n",
    "    '''\n",
    "    This function shows image in a window\n",
    "\n",
    "    Parameters\n",
    "    ----------\n",
    "    name : str\n",
    "        name of the window\n",
    "    img : numpy.ndarray\n",
    "        image to be shown\n",
    "    \n",
    "    Returns\n",
    "    -------\n",
    "    None\n",
    "\n",
    "    '''\n",
    "\n",
    "    cv2.namedWindow('kasu', cv2.WINDOW_AUTOSIZE)\n",
    "    cv2.startWindowThread()\n",
    "    cv2.imshow('kasu', img) #show image\n",
    "\n",
    "    # close window if q is pressed\n",
    "    key = cv2.waitKey(0)\n",
    "    if key in [27, ord('q'), ord('Q')]:\n",
    "        cv2.destroyAllWindows()\n",
    "    cv2.waitKey(1) #this is necessary to close window ************\n"
   ]
  },
  {
   "cell_type": "code",
   "execution_count": null,
   "metadata": {},
   "outputs": [],
   "source": [
    "cv_show(\"new\", img)"
   ]
  },
  {
   "cell_type": "code",
   "execution_count": null,
   "metadata": {},
   "outputs": [],
   "source": [
    "%run utils/img_input.py"
   ]
  },
  {
   "cell_type": "code",
   "execution_count": null,
   "metadata": {},
   "outputs": [],
   "source": [
    "img_array = ImgInput().get_img(\"photo/img.jpg\")"
   ]
  },
  {
   "cell_type": "code",
   "execution_count": null,
   "metadata": {},
   "outputs": [],
   "source": [
    "ImgInput().cv_show(\"new\", img_array)"
   ]
  },
  {
   "attachments": {},
   "cell_type": "markdown",
   "metadata": {},
   "source": [
    "# photo rotation"
   ]
  },
  {
   "attachments": {},
   "cell_type": "markdown",
   "metadata": {},
   "source": [
    "1. photo detection for different angle instead of wrong lying."
   ]
  },
  {
   "cell_type": "code",
   "execution_count": null,
   "metadata": {},
   "outputs": [],
   "source": [
    "img_array = ImgInput().get_img(\"photo/img.jpg\")"
   ]
  },
  {
   "cell_type": "code",
   "execution_count": null,
   "metadata": {},
   "outputs": [],
   "source": [
    "img_array_90 = np.rot90(img_array)"
   ]
  },
  {
   "cell_type": "code",
   "execution_count": null,
   "metadata": {},
   "outputs": [],
   "source": [
    "ImgInput().cv_show(\"new\", img_array_90)"
   ]
  },
  {
   "attachments": {},
   "cell_type": "markdown",
   "metadata": {},
   "source": [
    "# Video Capture"
   ]
  },
  {
   "attachments": {},
   "cell_type": "markdown",
   "metadata": {},
   "source": [
    "##### Video is continuous photo\n",
    "##### frame rate is frame per second"
   ]
  },
  {
   "attachments": {},
   "cell_type": "markdown",
   "metadata": {},
   "source": [
    "## Live Camera read"
   ]
  },
  {
   "cell_type": "code",
   "execution_count": 1,
   "metadata": {},
   "outputs": [],
   "source": [
    "import cv2\n",
    "import numpy as np"
   ]
  },
  {
   "cell_type": "code",
   "execution_count": null,
   "metadata": {},
   "outputs": [],
   "source": [
    "cv2.namedWindow('camera', cv2.WINDOW_AUTOSIZE)\n",
    "cv2.resizeWindow('camera', 800, 600)\n",
    "cap = cv2.VideoCapture(0) #open camera if parameter is 0\n",
    "\n",
    "# 由於是以影像的方式讀入，所以使用迴圈讓他不斷的顯示相片\n",
    "while cap.isOpened():\n",
    "    ret, frame = cap.read() #read image (ret: bool, frame: np.ndarray)\n",
    "    if ret == False:\n",
    "        break\n",
    "    cv2.imshow('camera', frame) #show image\n",
    "    if cv2.waitKey(1) & 0xFF == ord('q'): #close window if q is pressed\n",
    "        break\n",
    "\n",
    "cap.release() #release camera\n",
    "cv2.destroyAllWindows() #close window\n",
    "cv2.waitKey(1) #this is necessary to close window ************\n"
   ]
  },
  {
   "attachments": {},
   "cell_type": "markdown",
   "metadata": {},
   "source": [
    "# MP4 Read"
   ]
  },
  {
   "attachments": {},
   "cell_type": "markdown",
   "metadata": {},
   "source": [
    "##### Every time need to check the file exist or not using os.path"
   ]
  },
  {
   "cell_type": "code",
   "execution_count": null,
   "metadata": {},
   "outputs": [],
   "source": [
    "cv2.namedWindow('camera', cv2.WINDOW_AUTOSIZE)\n",
    "cap = cv2.VideoCapture('./video/1.mp4') # open video if parameter is video path \n",
    "# 由於是以影像的方式讀入，所以使用迴圈讓他不斷的顯示相片\n",
    "while cap.isOpened():\n",
    "    ret, frame = cap.read() #read image (ret: bool, frame: np.ndarray)\n",
    "    if ret == False:\n",
    "        break\n",
    "    cv2.imshow('camera', frame) #show image\n",
    "    # frame rate = 30 fps, 1 sec = 1000 ms, 1000/30 = 33.3 ms, waitKey(33)\n",
    "    key = cv2.waitKey(100) # wait 1 sec for next frame\n",
    "    if key & 0xFF == ord('q'): #close window if q is pressed\n",
    "        break\n",
    "\n",
    "cap.release() #release camera\n",
    "cv2.destroyAllWindows() #close window\n",
    "cv2.waitKey(1) #this is necessary to close window ************"
   ]
  },
  {
   "attachments": {},
   "cell_type": "markdown",
   "metadata": {},
   "source": [
    "# 影片錄製"
   ]
  },
  {
   "attachments": {},
   "cell_type": "markdown",
   "metadata": {},
   "source": [
    "https://gist.github.com/takuma7/44f9ecb028ff00e2132e"
   ]
  },
  {
   "cell_type": "code",
   "execution_count": 2,
   "metadata": {},
   "outputs": [
    {
     "data": {
      "text/plain": [
       "-1"
      ]
     },
     "execution_count": 2,
     "metadata": {},
     "output_type": "execute_result"
    }
   ],
   "source": [
    "cap = cv2.VideoCapture(0)\n",
    "# 設定擷取影像的尺寸大小\n",
    "cap.set(cv2.CAP_PROP_FRAME_WIDTH, 640)\n",
    "cap.set(cv2.CAP_PROP_FRAME_HEIGHT, 480)\n",
    "\n",
    "fourcc = cv2.VideoWriter_fourcc(*'mp4v')\n",
    "vw = cv2.VideoWriter('./video/create/output.mp4', fourcc, 30, (640, 480))\n",
    "\n",
    "while cap.isOpened():\n",
    "    ret, frame = cap.read()\n",
    "    if ret == False:\n",
    "        break\n",
    "    vw.write(frame)\n",
    "    cv2.imshow('camera', frame)\n",
    "    \n",
    "    if cv2.waitKey(1) == ord('q'):\n",
    "        break\n",
    "\n",
    "cap.release()\n",
    "vw.release()\n",
    "cv2.destroyAllWindows()\n",
    "cv2.waitKey(1) #this is necessary to close window ************"
   ]
  },
  {
   "cell_type": "code",
   "execution_count": null,
   "metadata": {},
   "outputs": [],
   "source": []
  }
 ],
 "metadata": {
  "kernelspec": {
   "display_name": "Python 3",
   "language": "python",
   "name": "python3"
  },
  "language_info": {
   "codemirror_mode": {
    "name": "ipython",
    "version": 3
   },
   "file_extension": ".py",
   "mimetype": "text/x-python",
   "name": "python",
   "nbconvert_exporter": "python",
   "pygments_lexer": "ipython3",
   "version": "3.11.0"
  },
  "orig_nbformat": 4
 },
 "nbformat": 4,
 "nbformat_minor": 2
}
