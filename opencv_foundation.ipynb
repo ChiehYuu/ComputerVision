{
 "cells": [
  {
   "attachments": {},
   "cell_type": "markdown",
   "metadata": {},
   "source": [
    "# Warm up"
   ]
  },
  {
   "cell_type": "code",
   "execution_count": 1,
   "metadata": {},
   "outputs": [],
   "source": [
    "import cv2"
   ]
  },
  {
   "cell_type": "code",
   "execution_count": null,
   "metadata": {},
   "outputs": [],
   "source": [
    "# Create window\n",
    "# cv2.WINDOW_AUTOSIZE do not allow resizing\n",
    "# cv2.WINDOW_NORMAL allows resizing\n",
    "cv2.namedWindow(\"new\", cv2.WINDOW_NORMAL) #WINDOW_NORMAL allows resizing\n",
    "cv2.resizeWindow(\"new\", 600, 600) #resize window\n",
    "cv2.imshow(\"new\", 0) #show image\n",
    "\n",
    "key = cv2.waitKey(0) #wait for key press\n",
    "# close window if q is pressed\n",
    "if key & 0xFF == ord(\"q\"):\n",
    "    cv2.destroyAllWindows()"
   ]
  },
  {
   "attachments": {},
   "cell_type": "markdown",
   "metadata": {},
   "source": [
    "# Read Image"
   ]
  },
  {
   "attachments": {},
   "cell_type": "markdown",
   "metadata": {},
   "source": [
    "1. Read image to form a array type \n",
    "2. Import into cv2 as a picture\n",
    "3. Open a window to show picture\n",
    "4. Close the window with key input"
   ]
  },
  {
   "cell_type": "code",
   "execution_count": null,
   "metadata": {},
   "outputs": [],
   "source": [
    "import cv2\n",
    "import matplotlib.pyplot as plt\n",
    "import time\n",
    "import numpy as np"
   ]
  },
  {
   "cell_type": "code",
   "execution_count": null,
   "metadata": {},
   "outputs": [],
   "source": [
    "img = cv2.imread(\"photo/img.jpg\") #read image in grayscale"
   ]
  },
  {
   "attachments": {},
   "cell_type": "markdown",
   "metadata": {},
   "source": [
    "##### img filp"
   ]
  },
  {
   "cell_type": "code",
   "execution_count": null,
   "metadata": {},
   "outputs": [],
   "source": [
    "img_filp_0 = cv2.flip(img, 0) #flip image vertically\n",
    "img_filp_1 = cv2.flip(img, 1) #flip image horizontally\n",
    "img_filp_2 = cv2.flip(img, -1) #flip image vertically and horizontally"
   ]
  },
  {
   "cell_type": "code",
   "execution_count": null,
   "metadata": {},
   "outputs": [],
   "source": [
    "cv2.imwrite(\"photo/create/img_filp_0.jpg\", img_filp_0) #save image\n",
    "cv2.imwrite(\"photo/create/img_filp_1.jpg\", img_filp_1) #save image\n",
    "cv2.imwrite(\"photo/create/img_filp_2.jpg\", img_filp_2) #save image"
   ]
  },
  {
   "attachments": {},
   "cell_type": "markdown",
   "metadata": {},
   "source": [
    "##### img transpose"
   ]
  },
  {
   "cell_type": "code",
   "execution_count": null,
   "metadata": {},
   "outputs": [],
   "source": [
    "cv2.transpose() #transpose image"
   ]
  },
  {
   "cell_type": "code",
   "execution_count": null,
   "metadata": {},
   "outputs": [],
   "source": [
    "img.shape #get image shape"
   ]
  },
  {
   "cell_type": "code",
   "execution_count": null,
   "metadata": {},
   "outputs": [],
   "source": [
    "plt.imshow(img) #show image"
   ]
  },
  {
   "cell_type": "code",
   "execution_count": null,
   "metadata": {},
   "outputs": [],
   "source": [
    "cv2.imwrite(\"photo/create/img_gray.jpg\", img) #save image"
   ]
  },
  {
   "cell_type": "code",
   "execution_count": null,
   "metadata": {},
   "outputs": [],
   "source": [
    "cv2.namedWindow('kasu', cv2.WINDOW_AUTOSIZE)\n",
    "cv2.startWindowThread()\n",
    "cv2.imshow('kasu', img) #show image\n",
    "\n",
    "# close window if q is pressed\n",
    "key = cv2.waitKey(0)\n",
    "if key in [27, ord('q'), ord('Q')]:\n",
    "    cv2.destroyAllWindows()\n",
    "cv2.waitKey(1) #this is necessary to close window ************"
   ]
  },
  {
   "attachments": {},
   "cell_type": "markdown",
   "metadata": {},
   "source": [
    "## pack the function"
   ]
  },
  {
   "cell_type": "code",
   "execution_count": null,
   "metadata": {},
   "outputs": [],
   "source": [
    "def cv_show(name: str, img: np.ndarray) -> None:\n",
    "    '''\n",
    "    This function shows image in a window\n",
    "\n",
    "    Parameters\n",
    "    ----------\n",
    "    name : str\n",
    "        name of the window\n",
    "    img : numpy.ndarray\n",
    "        image to be shown\n",
    "    \n",
    "    Returns\n",
    "    -------\n",
    "    None\n",
    "\n",
    "    '''\n",
    "\n",
    "    cv2.namedWindow('kasu', cv2.WINDOW_AUTOSIZE)\n",
    "    cv2.startWindowThread()\n",
    "    cv2.imshow('kasu', img) #show image\n",
    "\n",
    "    # close window if q is pressed\n",
    "    key = cv2.waitKey(0)\n",
    "    if key in [27, ord('q'), ord('Q')]:\n",
    "        cv2.destroyAllWindows()\n",
    "    cv2.waitKey(1) #this is necessary to close window ************\n"
   ]
  },
  {
   "cell_type": "code",
   "execution_count": null,
   "metadata": {},
   "outputs": [],
   "source": [
    "cv_show(\"new\", img)"
   ]
  },
  {
   "cell_type": "code",
   "execution_count": null,
   "metadata": {},
   "outputs": [],
   "source": [
    "%run utils/img_input.py"
   ]
  },
  {
   "cell_type": "code",
   "execution_count": null,
   "metadata": {},
   "outputs": [],
   "source": [
    "img_array = ImgInput().get_img(\"photo/img.jpg\")"
   ]
  },
  {
   "cell_type": "code",
   "execution_count": null,
   "metadata": {},
   "outputs": [],
   "source": [
    "ImgInput().cv_show(\"new\", img_array)"
   ]
  },
  {
   "attachments": {},
   "cell_type": "markdown",
   "metadata": {},
   "source": [
    "# photo rotation"
   ]
  },
  {
   "attachments": {},
   "cell_type": "markdown",
   "metadata": {},
   "source": [
    "1. photo detection for different angle instead of wrong lying."
   ]
  },
  {
   "cell_type": "code",
   "execution_count": null,
   "metadata": {},
   "outputs": [],
   "source": [
    "img_array = ImgInput().get_img(\"photo/img.jpg\")"
   ]
  },
  {
   "cell_type": "code",
   "execution_count": null,
   "metadata": {},
   "outputs": [],
   "source": [
    "img_array_90 = np.rot90(img_array)"
   ]
  },
  {
   "cell_type": "code",
   "execution_count": null,
   "metadata": {},
   "outputs": [],
   "source": [
    "ImgInput().cv_show(\"new\", img_array_90)"
   ]
  },
  {
   "attachments": {},
   "cell_type": "markdown",
   "metadata": {},
   "source": [
    "# Video Capture"
   ]
  },
  {
   "attachments": {},
   "cell_type": "markdown",
   "metadata": {},
   "source": [
    "##### Video is continuous photo\n",
    "##### frame rate is frame per second"
   ]
  },
  {
   "attachments": {},
   "cell_type": "markdown",
   "metadata": {},
   "source": [
    "## Live Camera read"
   ]
  },
  {
   "cell_type": "code",
   "execution_count": null,
   "metadata": {},
   "outputs": [],
   "source": [
    "import cv2\n",
    "import numpy as np"
   ]
  },
  {
   "cell_type": "code",
   "execution_count": null,
   "metadata": {},
   "outputs": [],
   "source": [
    "cv2.namedWindow('camera', cv2.WINDOW_AUTOSIZE)\n",
    "cv2.resizeWindow('camera', 800, 600)\n",
    "cap = cv2.VideoCapture(0) #open camera if parameter is 0\n",
    "\n",
    "# 由於是以影像的方式讀入，所以使用迴圈讓他不斷的顯示相片\n",
    "while cap.isOpened():\n",
    "    ret, frame = cap.read() #read image (ret: bool, frame: np.ndarray)\n",
    "    if ret == False:\n",
    "        break\n",
    "    cv2.imshow('camera', frame) #show image\n",
    "    if cv2.waitKey(1) & 0xFF == ord('q'): #close window if q is pressed\n",
    "        break\n",
    "\n",
    "cap.release() #release camera\n",
    "cv2.destroyAllWindows() #close window\n",
    "cv2.waitKey(1) #this is necessary to close window ************\n"
   ]
  },
  {
   "attachments": {},
   "cell_type": "markdown",
   "metadata": {},
   "source": [
    "# MP4 Read"
   ]
  },
  {
   "attachments": {},
   "cell_type": "markdown",
   "metadata": {},
   "source": [
    "##### Every time need to check the file exist or not using os.path"
   ]
  },
  {
   "cell_type": "code",
   "execution_count": null,
   "metadata": {},
   "outputs": [],
   "source": [
    "cv2.namedWindow('camera', cv2.WINDOW_AUTOSIZE)\n",
    "cap = cv2.VideoCapture('./video/1.mp4') # open video if parameter is video path \n",
    "# 由於是以影像的方式讀入，所以使用迴圈讓他不斷的顯示相片\n",
    "while cap.isOpened():\n",
    "    ret, frame = cap.read() #read image (ret: bool, frame: np.ndarray)\n",
    "    if ret == False:\n",
    "        break\n",
    "    cv2.imshow('camera', frame) #show image\n",
    "    # frame rate = 30 fps, 1 sec = 1000 ms, 1000/30 = 33.3 ms, waitKey(33)\n",
    "    key = cv2.waitKey(100) # wait 1 sec for next frame\n",
    "    if key & 0xFF == ord('q'): #close window if q is pressed\n",
    "        break\n",
    "\n",
    "cap.release() #release camera\n",
    "cv2.destroyAllWindows() #close window\n",
    "cv2.waitKey(1) #this is necessary to close window ************"
   ]
  },
  {
   "attachments": {},
   "cell_type": "markdown",
   "metadata": {},
   "source": [
    "# 影片錄製"
   ]
  },
  {
   "attachments": {},
   "cell_type": "markdown",
   "metadata": {},
   "source": [
    "https://gist.github.com/takuma7/44f9ecb028ff00e2132e"
   ]
  },
  {
   "cell_type": "code",
   "execution_count": null,
   "metadata": {},
   "outputs": [],
   "source": [
    "cap = cv2.VideoCapture(0)\n",
    "# 設定擷取影像的尺寸大小\n",
    "cap.set(cv2.CAP_PROP_FRAME_WIDTH, 640)\n",
    "cap.set(cv2.CAP_PROP_FRAME_HEIGHT, 480)\n",
    "\n",
    "fourcc = cv2.VideoWriter_fourcc(*'mp4v')\n",
    "vw = cv2.VideoWriter('./video/create/output.mp4', fourcc, 30, (640, 480))\n",
    "\n",
    "while cap.isOpened():\n",
    "    ret, frame = cap.read()\n",
    "    if ret == False:\n",
    "        break\n",
    "    vw.write(frame)\n",
    "    cv2.imshow('camera', frame)\n",
    "    \n",
    "    if cv2.waitKey(1) == ord('q'):\n",
    "        break\n",
    "\n",
    "cap.release()\n",
    "vw.release()\n",
    "cv2.destroyAllWindows()\n",
    "cv2.waitKey(1) #this is necessary to close window ************"
   ]
  },
  {
   "attachments": {},
   "cell_type": "markdown",
   "metadata": {},
   "source": [
    "# 滑鼠使用"
   ]
  },
  {
   "attachments": {},
   "cell_type": "markdown",
   "metadata": {},
   "source": [
    "##### 讀入滑鼠使用數據與位置與使用狀態以作為後續"
   ]
  },
  {
   "attachments": {},
   "cell_type": "markdown",
   "metadata": {},
   "source": [
    "* 代號\t事件\t說明\n",
    "0. cv2.EVENT_MOUSEMOVE\t滑動\n",
    "1. cv2.EVENT_LBUTTONDOWN\t左鍵點擊\n",
    "2. cv2.EVENT_RBUTTONDOWN\t右鍵點擊\n",
    "3. cv2.EVENT_MBUTTONDOWN\t中鍵點擊\n",
    "4. cv2.EVENT_LBUTTONUP\t左鍵放開\n",
    "5. cv2.EVENT_RBUTTONUP\t右鍵放開\n",
    "6. cv2.EVENT_MBUTTONUP\t中鍵放開\n",
    "7. cv2.EVENT_LBUTTONDBLCLK\t左鍵雙擊\n",
    "8. cv2.EVENT_RBUTTONDBLCLK\t右鍵雙擊\n",
    "9. cv2.EVENT_MBUTTONDBLCLK\t中鍵雙擊\n",
    "* 代號\tflag\t說明\n",
    "1. cv2.EVENT_FLAG_LBUTTON\t左鍵拖曳\n",
    "2. cv2.EVENT_FLAG_RBUTTON\t右鍵拖曳\n",
    "4. cv2.EVENT_FLAG_MBUTTON\t中鍵拖曳\n",
    "8. ～15. cv2.EVENT_FLAG_CTRLKEY\t按 Ctrl 不放事件\n",
    "16. ～31. cv2.EVENT_FLAG_SHIFTKEY\t按 Shift 不放事件\n",
    "32. ～39. cv2.EVENT_FLAG_ALTKEY\t按 Alt 不放事件\n",
    "\n"
   ]
  },
  {
   "cell_type": "code",
   "execution_count": 2,
   "metadata": {},
   "outputs": [],
   "source": [
    "import cv2\n",
    "import numpy as np"
   ]
  },
  {
   "attachments": {},
   "cell_type": "markdown",
   "metadata": {},
   "source": [
    "##### Key point: 由於在使用的過程中會不斷地修改儲存變數，故需要將變動的數值作為全域變數以作為控制，若非則每次的變數會重置，無法讀取數值"
   ]
  },
  {
   "cell_type": "code",
   "execution_count": 4,
   "metadata": {},
   "outputs": [
    {
     "name": "stdout",
     "output_type": "stream",
     "text": [
      "[328, 149]\n",
      "328 149\n",
      "328 149\n",
      "328 149\n",
      "[792, 739]\n",
      "792 739\n",
      "792 739\n",
      "[821, 648]\n",
      "821 648\n",
      "[819, 299]\n",
      "819 299\n",
      "819 299\n",
      "1\n"
     ]
    },
    {
     "ename": "error",
     "evalue": "OpenCV(4.7.0) /Users/xperience/GHA-OCV-Python/_work/opencv-python/opencv-python/opencv/modules/imgproc/src/resize.cpp:4062: error: (-215:Assertion failed) !ssize.empty() in function 'resize'\n",
     "output_type": "error",
     "traceback": [
      "\u001b[0;31m---------------------------------------------------------------------------\u001b[0m",
      "\u001b[0;31merror\u001b[0m                                     Traceback (most recent call last)",
      "Cell \u001b[0;32mIn[4], line 56\u001b[0m\n\u001b[1;32m     54\u001b[0m     \u001b[39melif\u001b[39;00m key \u001b[39m&\u001b[39m \u001b[39m0xFF\u001b[39m \u001b[39m==\u001b[39m \u001b[39mord\u001b[39m(\u001b[39m'\u001b[39m\u001b[39mv\u001b[39m\u001b[39m'\u001b[39m):\n\u001b[1;32m     55\u001b[0m         \u001b[39mprint\u001b[39m(\u001b[39m1\u001b[39m)\n\u001b[0;32m---> 56\u001b[0m         vague_square()\n\u001b[1;32m     58\u001b[0m cv2\u001b[39m.\u001b[39mdestroyAllWindows()\n\u001b[1;32m     59\u001b[0m cv2\u001b[39m.\u001b[39mwaitKey(\u001b[39m1\u001b[39m) \u001b[39m#this is necessary to close window ************\u001b[39;00m\n",
      "Cell \u001b[0;32mIn[4], line 36\u001b[0m, in \u001b[0;36mvague_square\u001b[0;34m()\u001b[0m\n\u001b[1;32m     34\u001b[0m w \u001b[39m=\u001b[39m \u001b[39mint\u001b[39m((dot2[\u001b[39m1\u001b[39m] \u001b[39m-\u001b[39m dot1[\u001b[39m1\u001b[39m]) \u001b[39m/\u001b[39m level)              \u001b[39m# 按照比例縮小後的寬度 ( 使用 int 去除小數點 )\u001b[39;00m\n\u001b[1;32m     35\u001b[0m square \u001b[39m=\u001b[39m img2[dot1[\u001b[39m1\u001b[39m]:dot2[\u001b[39m1\u001b[39m], dot1[\u001b[39m0\u001b[39m]:dot2[\u001b[39m0\u001b[39m]]    \u001b[39m# 取得馬賽克區域\u001b[39;00m\n\u001b[0;32m---> 36\u001b[0m square \u001b[39m=\u001b[39m cv2\u001b[39m.\u001b[39;49mresize(square, (w, h), interpolation\u001b[39m=\u001b[39;49mcv2\u001b[39m.\u001b[39;49mINTER_LINEAR)   \u001b[39m# 根據縮小尺寸縮小\u001b[39;00m\n\u001b[1;32m     37\u001b[0m square \u001b[39m=\u001b[39m cv2\u001b[39m.\u001b[39mresize(square, (dot2[\u001b[39m0\u001b[39m] \u001b[39m-\u001b[39m dot1[\u001b[39m0\u001b[39m], dot2[\u001b[39m1\u001b[39m] \u001b[39m-\u001b[39m dot1[\u001b[39m1\u001b[39m]), interpolation\u001b[39m=\u001b[39mcv2\u001b[39m.\u001b[39mINTER_NEAREST) \u001b[39m# 放大到原本的大小\u001b[39;00m\n\u001b[1;32m     38\u001b[0m img2[dot1[\u001b[39m1\u001b[39m]:dot2[\u001b[39m1\u001b[39m], dot1[\u001b[39m0\u001b[39m]:dot2[\u001b[39m0\u001b[39m]] \u001b[39m=\u001b[39m square   \u001b[39m# 置換成馬賽克的影像\u001b[39;00m\n",
      "\u001b[0;31merror\u001b[0m: OpenCV(4.7.0) /Users/xperience/GHA-OCV-Python/_work/opencv-python/opencv-python/opencv/modules/imgproc/src/resize.cpp:4062: error: (-215:Assertion failed) !ssize.empty() in function 'resize'\n"
     ]
    },
    {
     "ename": "",
     "evalue": "",
     "output_type": "error",
     "traceback": [
      "\u001b[1;31m在目前儲存格或上一個儲存格中執行程式碼時，Kernel 已損毀。請檢閱儲存格中的程式碼，找出失敗的可能原因。如需詳細資訊，請按一下<a href='https://aka.ms/vscodeJupyterKernelCrash'>這裡</a>。檢視 Jupyter <a href='command:jupyter.viewOutput'>記錄</a>，以取得進一步的詳細資料。"
     ]
    }
   ],
   "source": [
    "# initialize data\n",
    "dot_a = []\n",
    "dot_b = []\n",
    "#img = np.zeros((512,512,3), np.uint8)\n",
    "img = cv2.imread(\"photo/img.jpg\") #read image in grayscale\n",
    "\n",
    "# mouse callback function\n",
    "def mouse_callback(event: int, x: int, y: int, flags: int, param: None) -> None:\n",
    "    #print(\"event: {}, x: {}, y: {}, flags: {}, userdata: {}\".format(event, x, y, flags, param))\n",
    "    global dot1, dot2, img, img2 \n",
    "    # 紀錄點形成框\n",
    "    if flags == 1:\n",
    "        if event == 1:\n",
    "            dot1 = [x, y] # 按下滑鼠時記錄第一個座標\n",
    "            print(dot1)\n",
    "            print(dot1[0], dot1[1])\n",
    "        if event == 0:\n",
    "            img2 = img.copy()      # 拖曳時不斷複製 img\n",
    "            dot2 = [x, y]  # 拖曳時不斷更新第二個座標\n",
    "            # 根據兩個座標繪製四邊形\n",
    "            print(dot1[0], dot1[1])\n",
    "            cv2.rectangle(img2, (dot1[0], dot1[1]), (dot2[0], dot2[1]), (0,0,255), 5)\n",
    "            # 不斷顯示新圖片 ( 如果不這麼做，會出現一堆四邊形殘影 )\n",
    "            cv2.imshow('mouse', img2)\n",
    "        if event == 4:\n",
    "            img = img2 \n",
    "\n",
    "# 將區域內的圖片變模糊\n",
    "def vague_square() -> np.ndarray:\n",
    "    global dot1, dot2, img, img2 \n",
    "    # 模糊區域\n",
    "    level = 10                                        # 縮小比例 ( 可當作馬賽克的等級 )\n",
    "    h = int((dot2[0] - dot1[0]) / level)              # 按照比例縮小後的高度 ( 使用 int 去除小數點 )\n",
    "    w = int((dot2[1] - dot1[1]) / level)              # 按照比例縮小後的寬度 ( 使用 int 去除小數點 )\n",
    "    square = img2[dot1[1]:dot2[1], dot1[0]:dot2[0]]    # 取得馬賽克區域\n",
    "    square = cv2.resize(square, (w, h), interpolation=cv2.INTER_LINEAR)   # 根據縮小尺寸縮小\n",
    "    square = cv2.resize(square, (dot2[0] - dot1[0], dot2[1] - dot1[1]), interpolation=cv2.INTER_NEAREST) # 放大到原本的大小\n",
    "    img2[dot1[1]:dot2[1], dot1[0]:dot2[0]] = square   # 置換成馬賽克的影像\n",
    "    cv2.imshow('mouse', img)\n",
    "\n",
    "\n",
    "        \n",
    "\n",
    "# Create a black image, a window and bind the function to window\n",
    "cv2.namedWindow('mouse', cv2.WINDOW_NORMAL)\n",
    "cv2.resizeWindow('mouse', 800, 600)\n",
    "cv2.setMouseCallback('mouse', mouse_callback)\n",
    "\n",
    "while True:\n",
    "    cv2.imshow('mouse', img)\n",
    "    key = cv2.waitKey(1)\n",
    "    if key & 0xFF == ord('q'):\n",
    "        break\n",
    "    elif key & 0xFF == ord('v'):\n",
    "        print(1)\n",
    "        vague_square()\n",
    "\n",
    "cv2.destroyAllWindows()\n",
    "cv2.waitKey(1) #this is necessary to close window ************"
   ]
  },
  {
   "attachments": {},
   "cell_type": "markdown",
   "metadata": {},
   "source": [
    "# TraceBar for RGB input"
   ]
  },
  {
   "cell_type": "code",
   "execution_count": null,
   "metadata": {},
   "outputs": [],
   "source": [
    "import cv2\n",
    "import numpy as np"
   ]
  },
  {
   "cell_type": "code",
   "execution_count": null,
   "metadata": {},
   "outputs": [],
   "source": [
    "cv2.namedWindow('tracebar', cv2.WINDOW_NORMAL)\n",
    "cv2.resizeWindow('tracebar', 800, 600) \n",
    "\n",
    "def callback(value):\n",
    "    print(value)\n",
    "\n",
    "cv2.createTrackbar('r', 'tracebar', 0, 255, callback)\n",
    "cv2.createTrackbar('g', 'tracebar', 0, 255, callback)\n",
    "cv2.createTrackbar('b', 'tracebar', 0, 255, callback)\n",
    "\n",
    "# 初始底圖\n",
    "img = np.zeros((512,512,3), np.uint8)\n",
    "\n",
    "while True:\n",
    "\n",
    "    # 取得目前滑桿位置\n",
    "    r = cv2.getTrackbarPos('r', 'tracebar')\n",
    "    g = cv2.getTrackbarPos('g', 'tracebar')\n",
    "    b = cv2.getTrackbarPos('b', 'tracebar')\n",
    "\n",
    "    # 更新圖片\n",
    "    img[:] = [b, g, r]\n",
    "\n",
    "    cv2.imshow('tracebar', img)\n",
    "\n",
    "    if cv2.waitKey(1) == ord('q'):\n",
    "        break\n",
    "    \n",
    "cv2.destroyAllWindows()\n",
    "cv2.waitKey(1) #this is necessary to close window ************\n"
   ]
  },
  {
   "attachments": {},
   "cell_type": "markdown",
   "metadata": {},
   "source": [
    "# 顏色理論：RGB、HSV、HSL"
   ]
  },
  {
   "attachments": {},
   "cell_type": "markdown",
   "metadata": {},
   "source": [
    "##### 顏色轉換"
   ]
  },
  {
   "cell_type": "code",
   "execution_count": 1,
   "metadata": {},
   "outputs": [],
   "source": [
    "import cv2"
   ]
  },
  {
   "cell_type": "code",
   "execution_count": null,
   "metadata": {},
   "outputs": [],
   "source": [
    "def callback(value):\n",
    "    pass\n",
    "\n",
    "cv2.namedWindow('color', cv2.WINDOW_NORMAL)\n",
    "cv2.resizeWindow('color', 800, 600)\n",
    "\n",
    "img = cv2.imread('photo/img.jpg')\n",
    "\n",
    "colorspace = [cv2.COLOR_BAYER_BG2BGR, cv2.COLOR_BAYER_GB2BGR, cv2.COLOR_BAYER_GR2BGR, cv2.COLOR_BAYER_RG2BGR]\n",
    "colorspace_name = ['BG', 'GB', 'GR', 'RG'] \n",
    "cv2.createTrackbar('color', 'color', 0, 3, callback)\n"
   ]
  }
 ],
 "metadata": {
  "kernelspec": {
   "display_name": "Python 3",
   "language": "python",
   "name": "python3"
  },
  "language_info": {
   "codemirror_mode": {
    "name": "ipython",
    "version": 3
   },
   "file_extension": ".py",
   "mimetype": "text/x-python",
   "name": "python",
   "nbconvert_exporter": "python",
   "pygments_lexer": "ipython3",
   "version": "3.11.0"
  },
  "orig_nbformat": 4
 },
 "nbformat": 4,
 "nbformat_minor": 2
}
